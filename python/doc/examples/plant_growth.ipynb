{
 "cells": [
  {
   "cell_type": "markdown",
   "metadata": {},
   "source": [
    "# Plant growth"
   ]
  },
  {
   "cell_type": "code",
   "execution_count": 41,
   "metadata": {},
   "outputs": [],
   "source": [
    "from __future__ import print_function\n",
    "import openturns as ot\n",
    "import otagrum\n",
    "import pyAgrum as gum\n",
    "import pyAgrum.lib.notebook as gnb"
   ]
  },
  {
   "cell_type": "code",
   "execution_count": 42,
   "metadata": {},
   "outputs": [],
   "source": [
    "# Create variables\n",
    "light = gum.LabelizedVariable(\"Light\", \"quality of light\", 0)\n",
    "moisture = gum.LabelizedVariable(\"Moisture\", \"quantity of moisture\", 0)\n",
    "height = gum.DiscretizedVariable(\"Height\", \"plant growth\")"
   ]
  },
  {
   "cell_type": "code",
   "execution_count": 43,
   "metadata": {},
   "outputs": [],
   "source": [
    "## Create labels and ticks\n",
    "\n",
    "# light has 2 attributes : Dim and Bright\n",
    "light.addLabel(\"Dim\")\n",
    "light.addLabel(\"Bright\")\n",
    "lightSize = len(light.labels())\n",
    "\n",
    "# moisture has 2 attributes : Dry and Wet\n",
    "moisture.addLabel(\"Dry\")\n",
    "moisture.addLabel(\"Wet\")\n",
    "moistureSize = len(moisture.labels())\n",
    "\n",
    "# height is a discretized variable\n",
    "data = range(0, 180, 10)\n",
    "for i in data:\n",
    "    height.addTick(i)"
   ]
  },
  {
   "cell_type": "code",
   "execution_count": 44,
   "metadata": {},
   "outputs": [],
   "source": [
    "# height has a conditional probability table\n",
    "# We give here its conditional distributions\n",
    "\n",
    "# distribution when Dim and Dry\n",
    "heightWhenDimAndDry = ot.Uniform(0.0, 20.0)\n",
    "# distribution when Dim and Wet\n",
    "heightWhenDimAndWet = ot.Triangular(15.0, 30.0, 50.0)\n",
    "# distribution when Bright and Dry\n",
    "heightWhenBrightAndDry = ot.Triangular(0.0, 15.0, 30.0)\n",
    "# distribution when Bright and Wet\n",
    "heightWhenBrightAndWet = ot.Normal(90.0, 10.0)\n"
   ]
  },
  {
   "cell_type": "code",
   "execution_count": 45,
   "metadata": {},
   "outputs": [
    {
     "data": {
      "text/html": [
       "<svg height=\"188pt\" viewBox=\"0.00 0.00 120.34 188.00\" width=\"120pt\" xmlns=\"http://www.w3.org/2000/svg\" xmlns:xlink=\"http://www.w3.org/1999/xlink\">\n",
       "<g class=\"graph\" id=\"graph0\" transform=\"scale(1 1) rotate(0) translate(4 184)\">\n",
       "<title>G</title>\n",
       "<!-- Light -->\n",
       "<g class=\"node\" id=\"node1\">\n",
       "<title>Light</title>\n",
       "<g id=\"a_node1\"><a xlink:title=\"(0) Light\">\n",
       "<ellipse cx=\"77.8962\" cy=\"-162\" fill=\"#444444\" rx=\"29.795\" ry=\"18\" stroke=\"#000000\"/>\n",
       "<text fill=\"#ffffff\" font-family=\"Times,serif\" font-size=\"14.00\" text-anchor=\"middle\" x=\"77.8962\" y=\"-158.3\">Light</text>\n",
       "</a>\n",
       "</g>\n",
       "</g>\n",
       "<!-- Moisture -->\n",
       "<g class=\"node\" id=\"node2\">\n",
       "<title>Moisture</title>\n",
       "<g id=\"a_node2\"><a xlink:title=\"(1) Moisture\">\n",
       "<ellipse cx=\"42.8962\" cy=\"-90\" fill=\"#444444\" rx=\"42.7926\" ry=\"18\" stroke=\"#000000\"/>\n",
       "<text fill=\"#ffffff\" font-family=\"Times,serif\" font-size=\"14.00\" text-anchor=\"middle\" x=\"42.8962\" y=\"-86.3\">Moisture</text>\n",
       "</a>\n",
       "</g>\n",
       "</g>\n",
       "<!-- Light&#45;&gt;Moisture -->\n",
       "<g class=\"edge\" id=\"edge1\">\n",
       "<title>Light-&gt;Moisture</title>\n",
       "<g id=\"a_edge1\"><a xlink:title=\"(0, 1) : \">\n",
       "<path d=\"M69.4237,-144.5708C65.3996,-136.2927 60.4985,-126.2104 56.0091,-116.9752\" fill=\"none\" stroke=\"#000000\"/>\n",
       "<polygon fill=\"#000000\" points=\"59.0536,-115.2324 51.5338,-107.7689 52.758,-118.2928 59.0536,-115.2324\" stroke=\"#000000\"/>\n",
       "</a>\n",
       "</g>\n",
       "</g>\n",
       "<!-- Height -->\n",
       "<g class=\"node\" id=\"node3\">\n",
       "<title>Height</title>\n",
       "<g id=\"a_node3\"><a xlink:title=\"(2) Height\">\n",
       "<ellipse cx=\"77.8962\" cy=\"-18\" fill=\"#444444\" rx=\"34.394\" ry=\"18\" stroke=\"#000000\"/>\n",
       "<text fill=\"#ffffff\" font-family=\"Times,serif\" font-size=\"14.00\" text-anchor=\"middle\" x=\"77.8962\" y=\"-14.3\">Height</text>\n",
       "</a>\n",
       "</g>\n",
       "</g>\n",
       "<!-- Light&#45;&gt;Height -->\n",
       "<g class=\"edge\" id=\"edge2\">\n",
       "<title>Light-&gt;Height</title>\n",
       "<g id=\"a_edge2\"><a xlink:title=\"(0, 2) : \">\n",
       "<path d=\"M84.9629,-144.326C88.7351,-133.9346 92.9851,-120.4346 94.8962,-108 97.3267,-92.1857 97.3267,-87.8143 94.8962,-72 93.5375,-63.1598 90.9967,-53.7811 88.2859,-45.3637\" fill=\"none\" stroke=\"#000000\"/>\n",
       "<polygon fill=\"#000000\" points=\"91.5176,-43.9979 84.9629,-35.674 84.8962,-46.2687 91.5176,-43.9979\" stroke=\"#000000\"/>\n",
       "</a>\n",
       "</g>\n",
       "</g>\n",
       "<!-- Moisture&#45;&gt;Height -->\n",
       "<g class=\"edge\" id=\"edge3\">\n",
       "<title>Moisture-&gt;Height</title>\n",
       "<g id=\"a_edge3\"><a xlink:title=\"(1, 2) : \">\n",
       "<path d=\"M51.5479,-72.2022C55.5744,-63.9192 60.449,-53.8915 64.905,-44.7248\" fill=\"none\" stroke=\"#000000\"/>\n",
       "<polygon fill=\"#000000\" points=\"68.1198,-46.1169 69.344,-35.593 61.8243,-43.0565 68.1198,-46.1169\" stroke=\"#000000\"/>\n",
       "</a>\n",
       "</g>\n",
       "</g>\n",
       "</g>\n",
       "</svg>"
      ],
      "text/plain": [
       "(gum::BayesNet<double>@0x2350690) BN{nodes: 3, arcs: 3, domainSize: 68, parameters: 74, compression ratio: -8% }"
      ]
     },
     "execution_count": 45,
     "metadata": {},
     "output_type": "execute_result"
    }
   ],
   "source": [
    "## Create the net\n",
    "bn = gum.BayesNet(\"Plant Growth\")\n",
    "\n",
    "# Add variables\n",
    "indexLight    = bn.add(light)\n",
    "indexMoisture = bn.add(moisture)\n",
    "indexHeight   = bn.add(height)\n",
    "\n",
    "# Add arcs\n",
    "bn.addArc(indexLight, indexMoisture)\n",
    "bn.addArc(indexLight, indexHeight)\n",
    "bn.addArc(indexMoisture, indexHeight)\n",
    "bn"
   ]
  },
  {
   "cell_type": "code",
   "execution_count": 46,
   "metadata": {},
   "outputs": [
    {
     "name": "stdout",
     "output_type": "stream",
     "text": [
      "moisture Antecedents=  ['Light', 'Moisture']\n"
     ]
    }
   ],
   "source": [
    "# Create conditional probability tables\n",
    "# light conditional probability table\n",
    "bn.cpt(indexLight)[:] = [0.25, 0.75]\n",
    "\n",
    "# moisture conditional probability table\n",
    "# We show the antecedents of moisture with the order in which they were declared\n",
    "print(\"moisture Antecedents= \", bn.cpt(indexMoisture).var_names)\n",
    "bn.cpt(indexMoisture)[{'Light' : 'Dim'}] = [0.2, 0.8]\n",
    "bn.cpt(indexMoisture)[{'Light' : 'Bright'}] = [0.6, 0.4]\n",
    "\n",
    "# We have to enter some OT distributions whithin aGrUM conditional probability tables\n",
    "# We show the antecedents of height with the order in which they were declared\n",
    "# The new class Utils from otagrum is able to marry OT distributions and Agrum conditional probability tables\n",
    "bn.cpt(indexHeight)[{'Light': 'Dim', 'Moisture': 'Dry'}]   = otagrum.Utils.Discretize(heightWhenDimAndDry, height).tolist()\n",
    "bn.cpt(indexHeight)[{'Light': 'Bright', 'Moisture': 'Dry'}] = otagrum.Utils.Discretize(heightWhenBrightAndDry, height).tolist()\n",
    "bn.cpt(indexHeight)[{'Light': 'Dim', 'Moisture': 'Wet'}]    = otagrum.Utils.Discretize(heightWhenDimAndWet, height).tolist()\n",
    "bn.cpt(indexHeight)[{'Light': 'Bright', 'Moisture': 'Wet'}] = otagrum.Utils.Discretize(heightWhenBrightAndWet, height).tolist()\n"
   ]
  },
  {
   "cell_type": "code",
   "execution_count": 47,
   "metadata": {},
   "outputs": [
    {
     "name": "stdout",
     "output_type": "stream",
     "text": [
      "vnames ['Moisture', 'Light', 'Height']\n",
      "desc [Height,Light,Moisture]\n"
     ]
    },
    {
     "data": {
      "image/png": "[encoded data removed]",
      "text/plain": [
       "class=Graph name=Height PDF implementation=class=GraphImplementation name=Height PDF title=Height PDF xTitle=Height yTitle=PDF axes=ON grid=ON legendposition=topright legendFontSize=1 drawables=[class=Drawable name=Unnamed implementation=class=Curve name=Unnamed derived from class=DrawableImplementation name=Unnamed legend=Height PDF data=class=Sample name=Unnamed implementation=class=SampleImplementation name=Unnamed size=129 dimension=2 data=[[-94.0838,0],[-91.8686,0],[-89.6534,0],[-87.4382,0],[-85.223,0],[-83.0078,0],[-80.7926,0],[-78.5774,0],[-76.3622,0],[-74.147,0],[-71.9318,0],[-69.7166,0],[-67.5014,0],[-65.2862,0],[-63.071,0],[-60.8558,0],[-58.6406,0],[-56.4254,0],[-54.2102,0],[-51.995,0],[-49.7798,0],[-47.5646,0],[-45.3494,0],[-43.1342,0],[-40.919,0],[-38.7038,0],[-36.4886,0],[-34.2734,0],[-32.0582,0],[-29.843,0],[-27.6278,0],[-25.4126,0],[-23.1974,0],[-20.9822,0],[-18.767,0],[-16.5518,0],[-14.3366,0],[-12.1214,0],[-9.90619,0],[-7.69098,0],[-5.47578,0],[-3.26058,0],[-1.04538,0],[1.16982,0.0180556],[3.38502,0.0180556],[5.60022,0.0180556],[7.81543,0.0180556],[10.0306,0.0275794],[12.2458,0.0275794],[14.461,0.0275794],[16.6762,0.0275794],[18.8914,0.0275794],[21.1066,0.0150794],[23.3218,0.0150794],[25.537,0.0150794],[27.7522,0.0150794],[29.9674,0.0150794],[32.1826,0.0107143],[34.3978,0.0107143],[36.613,0.0107143],[38.8282,0.0107143],[41.0434,0.00357221],[43.2586,0.00357221],[45.4738,0.00357221],[47.6891,0.00357221],[49.9043,0.00357221],[52.1195,3.29557e-05],[54.3347,3.29557e-05],[56.5499,3.29557e-05],[58.7651,3.29557e-05],[60.9803,0.000535006],[63.1955,0.000535006],[65.4107,0.000535006],[67.6259,0.000535006],[69.8411,0.000535006],[72.0563,0.00339763],[74.2715,0.00339763],[76.4867,0.00339763],[78.7019,0.00339763],[80.9171,0.00853362],[83.1323,0.00853362],[85.3475,0.00853362],[87.5627,0.00853362],[89.7779,0.00853362],[91.9931,0.00853362],[94.2083,0.00853362],[96.4235,0.00853362],[98.6387,0.00853362],[100.854,0.00339763],[103.069,0.00339763],[105.284,0.00339763],[107.499,0.00339763],[109.715,0.00339763],[111.93,0.000535006],[114.145,0.000535006],[116.36,0.000535006],[118.575,0.000535006],[120.791,3.29557e-05],[123.006,3.29557e-05],[125.221,3.29557e-05],[127.436,3.29557e-05],[129.652,3.29557e-05],[131.867,7.84615e-07],[134.082,7.84615e-07],[136.297,7.84615e-07],[138.512,7.84615e-07],[140.728,7.14162e-09],[142.943,7.14162e-09],[145.158,7.14162e-09],[147.373,7.14162e-09],[149.588,7.14162e-09],[151.804,2.46327e-11],[154.019,2.46327e-11],[156.234,2.46327e-11],[158.449,2.46327e-11],[160.664,3.198e-14],[162.88,3.198e-14],[165.095,3.198e-14],[167.31,3.198e-14],[169.525,3.198e-14],[171.74,0],[173.956,0],[176.171,0],[178.386,0],[180.601,0],[182.816,0],[185.032,0],[187.247,0],[189.462,0]] color=red fillStyle=solid lineStyle=solid pointStyle=none lineWidth=2]"
      ]
     },
     "execution_count": 47,
     "metadata": {},
     "output_type": "execute_result"
    }
   ],
   "source": [
    "# Get the distribution of the variable \"Height\"\n",
    "hpo = bn.cpt(indexHeight)\n",
    "print('vnames', hpo.var_names)\n",
    "#pos = h_po.pos(height)\n",
    "pos = 0\n",
    "hpo_distribution = otagrum.Utils.FromPotential(hpo)\n",
    "print('desc', hpo_distribution.getDescription())\n",
    "heightDistribution = hpo_distribution.getMarginal(pos)\n",
    "heightDistribution.drawPDF()"
   ]
  }
 ],
 "metadata": {
  "kernelspec": {
   "display_name": "Python 3",
   "language": "python",
   "name": "python3"
  },
  "language_info": {
   "codemirror_mode": {
    "name": "ipython",
    "version": 3
   },
   "file_extension": ".py",
   "mimetype": "text/x-python",
   "name": "python",
   "nbconvert_exporter": "python",
   "pygments_lexer": "ipython3",
   "version": "3.6.6"
  }
 },
 "nbformat": 4,
 "nbformat_minor": 1
}
